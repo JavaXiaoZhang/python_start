{
 "cells": [
  {
   "cell_type": "markdown",
   "id": "d65ca571-e824-4795-947b-d0e9da4872d8",
   "metadata": {},
   "source": [
    "print('hello world')"
   ]
  },
  {
   "cell_type": "code",
   "execution_count": 4,
   "id": "e052504e-e37a-4397-a5cf-d986e8fa35a2",
   "metadata": {},
   "outputs": [
    {
     "name": "stdout",
     "output_type": "stream",
     "text": [
      "hello world\n"
     ]
    }
   ],
   "source": [
    "print('hello world')"
   ]
  },
  {
   "cell_type": "code",
   "execution_count": 5,
   "id": "711317e4-f3d6-48f4-bbd8-6ce1d44fcea9",
   "metadata": {},
   "outputs": [
    {
     "data": {
      "text/plain": [
       "'hello'"
      ]
     },
     "execution_count": 5,
     "metadata": {},
     "output_type": "execute_result"
    }
   ],
   "source": [
    "'hello'"
   ]
  },
  {
   "cell_type": "markdown",
   "id": "ce167204-0db4-46a2-9776-62ce70acfd6a",
   "metadata": {},
   "source": [
    "# biaoti"
   ]
  },
  {
   "cell_type": "markdown",
   "id": "153550eb-af6e-493d-8a64-7a47df84e1fe",
   "metadata": {},
   "source": [
    "## 2jibiaoti"
   ]
  },
  {
   "cell_type": "markdown",
   "id": "469bfe52-c5a4-4137-99a1-3d9cccb2dbd7",
   "metadata": {},
   "source": [
    "**B**"
   ]
  },
  {
   "cell_type": "markdown",
   "id": "e6a5759f-3153-4989-8cdb-22abdcb65848",
   "metadata": {},
   "source": [
    "*B*"
   ]
  },
  {
   "cell_type": "markdown",
   "id": "c2f13b6e-25e3-4b48-993e-7c569fedfb42",
   "metadata": {},
   "source": [
    "~~B~~"
   ]
  },
  {
   "cell_type": "markdown",
   "id": "7ed4bac5-50f5-444b-bb4d-7238b6b13575",
   "metadata": {},
   "source": [
    "[Baidu](http://www.baidu.com)"
   ]
  },
  {
   "cell_type": "markdown",
   "id": "8c855743-4c2f-4b51-807c-7d20490c6df4",
   "metadata": {},
   "source": [
    "![Baidu](http://www.baidu.com)"
   ]
  },
  {
   "cell_type": "markdown",
   "id": "d145182d-fc0b-4ff9-98fe-3813900f18ac",
   "metadata": {},
   "source": [
    "> 蒹葭苍苍  \n",
    "白露为霜"
   ]
  },
  {
   "cell_type": "markdown",
   "id": "c7eb551a-6379-446f-9f21-5121e19a30d3",
   "metadata": {},
   "source": [
    "$x + y = 3$"
   ]
  },
  {
   "cell_type": "markdown",
   "id": "4dc7bbb4-4003-4ece-af75-f8f0d7855800",
   "metadata": {},
   "source": [
    "$$ x * y = 2$$"
   ]
  },
  {
   "cell_type": "code",
   "execution_count": 54,
   "id": "81e2132b-41d9-4968-9af8-c5854734c45f",
   "metadata": {},
   "outputs": [],
   "source": [
    "import numpy as np"
   ]
  },
  {
   "cell_type": "code",
   "execution_count": 56,
   "id": "a7a37e42-ab92-40be-88aa-b21406a35df2",
   "metadata": {},
   "outputs": [
    {
     "ename": "TypeError",
     "evalue": "'tuple' object is not callable",
     "output_type": "error",
     "traceback": [
      "\u001b[1;31m---------------------------------------------------------------------------\u001b[0m",
      "\u001b[1;31mTypeError\u001b[0m                                 Traceback (most recent call last)",
      "Cell \u001b[1;32mIn[56], line 1\u001b[0m\n\u001b[1;32m----> 1\u001b[0m arr1 \u001b[38;5;241m=\u001b[39m \u001b[43mnp\u001b[49m\u001b[38;5;241;43m.\u001b[39;49m\u001b[43marray\u001b[49m\u001b[43m(\u001b[49m\u001b[43m[\u001b[49m\u001b[38;5;241;43m1\u001b[39;49m\u001b[43m]\u001b[49m\u001b[43m)\u001b[49m\n",
      "\u001b[1;31mTypeError\u001b[0m: 'tuple' object is not callable"
     ]
    }
   ],
   "source": [
    "arr1 = np.array([1])"
   ]
  },
  {
   "cell_type": "code",
   "execution_count": 11,
   "id": "0e693520-f6d9-405c-82e3-bfce8b60d10d",
   "metadata": {},
   "outputs": [
    {
     "data": {
      "text/plain": [
       "(['1', '2'], ['3', '4'])"
      ]
     },
     "execution_count": 11,
     "metadata": {},
     "output_type": "execute_result"
    }
   ],
   "source": [
    "arr1"
   ]
  },
  {
   "cell_type": "code",
   "execution_count": 53,
   "id": "4563fe1a-a27f-46b0-9811-47df69d16d8b",
   "metadata": {},
   "outputs": [
    {
     "ename": "AttributeError",
     "evalue": "'tuple' object has no attribute 'ndim'",
     "output_type": "error",
     "traceback": [
      "\u001b[1;31m---------------------------------------------------------------------------\u001b[0m",
      "\u001b[1;31mAttributeError\u001b[0m                            Traceback (most recent call last)",
      "Cell \u001b[1;32mIn[53], line 1\u001b[0m\n\u001b[1;32m----> 1\u001b[0m \u001b[38;5;28mprint\u001b[39m(\u001b[43marr1\u001b[49m\u001b[38;5;241;43m.\u001b[39;49m\u001b[43mndim\u001b[49m)\n",
      "\u001b[1;31mAttributeError\u001b[0m: 'tuple' object has no attribute 'ndim'"
     ]
    }
   ],
   "source": [
    "print(arr1.ndim)"
   ]
  },
  {
   "cell_type": "code",
   "execution_count": 41,
   "id": "4c4db181-2639-4a6b-8aba-1403b05c0b9f",
   "metadata": {},
   "outputs": [],
   "source": [
    "zarr = np.zeros(5)"
   ]
  },
  {
   "cell_type": "code",
   "execution_count": 68,
   "id": "ba74f117-ec51-4d1a-adef-8fa0fe106901",
   "metadata": {},
   "outputs": [
    {
     "data": {
      "text/plain": [
       "dtype('float64')"
      ]
     },
     "execution_count": 68,
     "metadata": {},
     "output_type": "execute_result"
    }
   ],
   "source": [
    "zarr.dtype"
   ]
  },
  {
   "cell_type": "code",
   "execution_count": 15,
   "id": "f1a8abbe-0854-4c12-ba43-8c8dba3adf7c",
   "metadata": {},
   "outputs": [
    {
     "data": {
      "text/plain": [
       "array([1., 1., 1., 1., 1.])"
      ]
     },
     "execution_count": 15,
     "metadata": {},
     "output_type": "execute_result"
    }
   ],
   "source": [
    "np.ones(5)"
   ]
  },
  {
   "cell_type": "code",
   "execution_count": 27,
   "id": "2a35c221-1833-4e26-adc3-7edbf2f0f703",
   "metadata": {},
   "outputs": [
    {
     "data": {
      "text/plain": [
       "array([1, 2, 3, 4, 5, 6, 7, 8, 9])"
      ]
     },
     "execution_count": 27,
     "metadata": {},
     "output_type": "execute_result"
    }
   ],
   "source": [
    "np.arange(1,10,1)"
   ]
  },
  {
   "cell_type": "code",
   "execution_count": 67,
   "id": "bbb067de-474b-412c-9c34-acde920d4bc5",
   "metadata": {},
   "outputs": [
    {
     "ename": "TypeError",
     "evalue": "'tuple' object is not callable",
     "output_type": "error",
     "traceback": [
      "\u001b[1;31m---------------------------------------------------------------------------\u001b[0m",
      "\u001b[1;31mTypeError\u001b[0m                                 Traceback (most recent call last)",
      "Cell \u001b[1;32mIn[67], line 1\u001b[0m\n\u001b[1;32m----> 1\u001b[0m arr2\u001b[38;5;241m=\u001b[39m\u001b[43mnp\u001b[49m\u001b[38;5;241;43m.\u001b[39;49m\u001b[43marray\u001b[49m\u001b[43m(\u001b[49m\u001b[43m[\u001b[49m\u001b[38;5;241;43m6\u001b[39;49m\u001b[43m,\u001b[49m\u001b[43m \u001b[49m\u001b[38;5;241;43m2\u001b[39;49m\u001b[43m,\u001b[49m\u001b[43m \u001b[49m\u001b[38;5;241;43m-\u001b[39;49m\u001b[38;5;241;43m7\u001b[39;49m\u001b[43m,\u001b[49m\u001b[43m \u001b[49m\u001b[38;5;241;43m2\u001b[39;49m\u001b[43m,\u001b[49m\u001b[43m \u001b[49m\u001b[38;5;241;43m8\u001b[39;49m\u001b[43m,\u001b[49m\u001b[43m \u001b[49m\u001b[38;5;241;43m-\u001b[39;49m\u001b[38;5;241;43m2\u001b[39;49m\u001b[43m,\u001b[49m\u001b[43m \u001b[49m\u001b[38;5;241;43m-\u001b[39;49m\u001b[38;5;241;43m1\u001b[39;49m\u001b[43m]\u001b[49m\u001b[43m)\u001b[49m\n",
      "\u001b[1;31mTypeError\u001b[0m: 'tuple' object is not callable"
     ]
    }
   ],
   "source": [
    "arr2=np.array([6, 2, -7, 2, 8, -2, -1])"
   ]
  },
  {
   "cell_type": "code",
   "execution_count": 22,
   "id": "9524aa1e-531c-4371-9c2f-f4051225aa99",
   "metadata": {},
   "outputs": [
    {
     "data": {
      "text/plain": [
       "[6, 2, -7, 2, 8, -2, -1]"
      ]
     },
     "execution_count": 22,
     "metadata": {},
     "output_type": "execute_result"
    }
   ],
   "source": [
    "arr2"
   ]
  },
  {
   "cell_type": "code",
   "execution_count": 80,
   "id": "feff0f61-418e-4338-9c19-9477430be788",
   "metadata": {},
   "outputs": [
    {
     "ename": "TypeError",
     "evalue": "'tuple' object is not callable",
     "output_type": "error",
     "traceback": [
      "\u001b[1;31m---------------------------------------------------------------------------\u001b[0m",
      "\u001b[1;31mTypeError\u001b[0m                                 Traceback (most recent call last)",
      "Cell \u001b[1;32mIn[80], line 1\u001b[0m\n\u001b[1;32m----> 1\u001b[0m arr3\u001b[38;5;241m=\u001b[39m\u001b[43mnp\u001b[49m\u001b[38;5;241;43m.\u001b[39;49m\u001b[43marray\u001b[49m\u001b[43m(\u001b[49m\u001b[43m[\u001b[49m\u001b[38;5;241;43m10\u001b[39;49m\u001b[43m,\u001b[49m\u001b[43m \u001b[49m\u001b[38;5;241;43m12\u001b[39;49m\u001b[43m,\u001b[49m\u001b[43m \u001b[49m\u001b[38;5;241;43m14\u001b[39;49m\u001b[43m,\u001b[49m\u001b[43m \u001b[49m\u001b[38;5;241;43m16\u001b[39;49m\u001b[43m,\u001b[49m\u001b[43m \u001b[49m\u001b[38;5;241;43m18\u001b[39;49m\u001b[43m,\u001b[49m\u001b[43m \u001b[49m\u001b[38;5;241;43m20\u001b[39;49m\u001b[43m]\u001b[49m\u001b[43m)\u001b[49m\n",
      "\u001b[1;31mTypeError\u001b[0m: 'tuple' object is not callable"
     ]
    }
   ],
   "source": [
    "arr3=np.array([10, 12, 14, 16, 18, 20])"
   ]
  },
  {
   "cell_type": "code",
   "execution_count": 24,
   "id": "61479b5e-039a-4735-b0d9-1ad30631ed44",
   "metadata": {},
   "outputs": [
    {
     "data": {
      "text/plain": [
       "([1, 3, 5], [2, 4, 6])"
      ]
     },
     "execution_count": 24,
     "metadata": {},
     "output_type": "execute_result"
    }
   ],
   "source": [
    "arr3"
   ]
  },
  {
   "cell_type": "code",
   "execution_count": 25,
   "id": "cbfb5052-62e5-4639-8357-8f06e3792d68",
   "metadata": {},
   "outputs": [
    {
     "ename": "AttributeError",
     "evalue": "'list' object has no attribute 'shape'",
     "output_type": "error",
     "traceback": [
      "\u001b[1;31m---------------------------------------------------------------------------\u001b[0m",
      "\u001b[1;31mAttributeError\u001b[0m                            Traceback (most recent call last)",
      "Cell \u001b[1;32mIn[25], line 1\u001b[0m\n\u001b[1;32m----> 1\u001b[0m \u001b[43marr2\u001b[49m\u001b[38;5;241;43m.\u001b[39;49m\u001b[43mshape\u001b[49m\n",
      "\u001b[1;31mAttributeError\u001b[0m: 'list' object has no attribute 'shape'"
     ]
    }
   ],
   "source": [
    "arr2.shape"
   ]
  },
  {
   "cell_type": "code",
   "execution_count": 62,
   "id": "efb39795-1dbb-4aea-9367-1e4e9f6ba406",
   "metadata": {},
   "outputs": [
    {
     "data": {
      "text/plain": [
       "(1, 2)"
      ]
     },
     "execution_count": 62,
     "metadata": {},
     "output_type": "execute_result"
    }
   ],
   "source": [
    "(1,2)"
   ]
  },
  {
   "cell_type": "code",
   "execution_count": 71,
   "id": "652007f5-b7cd-4448-94ae-4ceaf9dcec02",
   "metadata": {},
   "outputs": [],
   "source": [
    "arr_even = np.arange(10,21,2)"
   ]
  },
  {
   "cell_type": "code",
   "execution_count": 72,
   "id": "58c6eb50-996b-4ae9-9b8b-62888c79514d",
   "metadata": {},
   "outputs": [
    {
     "data": {
      "text/plain": [
       "array([10, 12, 14, 16, 18, 20])"
      ]
     },
     "execution_count": 72,
     "metadata": {},
     "output_type": "execute_result"
    }
   ],
   "source": [
    "arr_even"
   ]
  },
  {
   "cell_type": "code",
   "execution_count": 73,
   "id": "bd115799-7a7d-4336-9f8e-86a00535ece3",
   "metadata": {},
   "outputs": [
    {
     "data": {
      "text/plain": [
       "1"
      ]
     },
     "execution_count": 73,
     "metadata": {},
     "output_type": "execute_result"
    }
   ],
   "source": [
    "arr_even.ndim"
   ]
  },
  {
   "cell_type": "code",
   "execution_count": 74,
   "id": "148b549b-4f9c-4afa-9665-763030e321b7",
   "metadata": {},
   "outputs": [
    {
     "data": {
      "text/plain": [
       "(6,)"
      ]
     },
     "execution_count": 74,
     "metadata": {},
     "output_type": "execute_result"
    }
   ],
   "source": [
    "arr_even.shape"
   ]
  },
  {
   "cell_type": "code",
   "execution_count": 75,
   "id": "573fdae2-f4cb-48a2-9129-54c41db1e57c",
   "metadata": {},
   "outputs": [
    {
     "data": {
      "text/plain": [
       "6"
      ]
     },
     "execution_count": 75,
     "metadata": {},
     "output_type": "execute_result"
    }
   ],
   "source": [
    "arr_even.size"
   ]
  },
  {
   "cell_type": "code",
   "execution_count": 76,
   "id": "a50abc99-2e0d-47c5-b0a7-f662e1d27a95",
   "metadata": {},
   "outputs": [
    {
     "data": {
      "text/plain": [
       "dtype('int64')"
      ]
     },
     "execution_count": 76,
     "metadata": {},
     "output_type": "execute_result"
    }
   ],
   "source": [
    "arr_even.dtype"
   ]
  },
  {
   "cell_type": "code",
   "execution_count": null,
   "id": "3f309e3f-866d-4440-afb9-6daa60eb854c",
   "metadata": {},
   "outputs": [],
   "source": []
  }
 ],
 "metadata": {
  "kernelspec": {
   "display_name": "Python 3 (ipykernel)",
   "language": "python",
   "name": "python3"
  },
  "language_info": {
   "codemirror_mode": {
    "name": "ipython",
    "version": 3
   },
   "file_extension": ".py",
   "mimetype": "text/x-python",
   "name": "python",
   "nbconvert_exporter": "python",
   "pygments_lexer": "ipython3",
   "version": "3.9.19"
  }
 },
 "nbformat": 4,
 "nbformat_minor": 5
}
